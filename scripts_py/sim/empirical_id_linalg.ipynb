{
 "cells": [
  {
   "cell_type": "markdown",
   "id": "546c2815",
   "metadata": {},
   "source": [
    "### Photonic lantern empirical identification procedure: pure linear algebra derivation"
   ]
  },
  {
   "cell_type": "code",
   "execution_count": 1,
   "id": "9e391d3d",
   "metadata": {},
   "outputs": [],
   "source": [
    "import numpy as np"
   ]
  },
  {
   "cell_type": "code",
   "execution_count": 2,
   "id": "ba8ace7f",
   "metadata": {},
   "outputs": [],
   "source": [
    "N = 19\n",
    "B = np.random.uniform(low=-1, high=1, size=(N,N)) + 1j * np.random.uniform(low=-1, high=1, size=(N,N))"
   ]
  },
  {
   "cell_type": "markdown",
   "id": "6b19d7fd",
   "metadata": {},
   "source": [
    "We're never allowed to look at B; instead we can only look at the outputs of this function:"
   ]
  },
  {
   "cell_type": "code",
   "execution_count": 3,
   "id": "f421d319",
   "metadata": {},
   "outputs": [],
   "source": [
    "def query(x):\n",
    "    return np.abs(np.dot(B, x)) ** 2"
   ]
  },
  {
   "cell_type": "code",
   "execution_count": 4,
   "id": "8b1b6a28",
   "metadata": {},
   "outputs": [],
   "source": [
    "absB = np.zeros((N,N))\n",
    "diagonal_query = np.zeros(N)\n",
    "for i in range(N):\n",
    "    diagonal_query[:] = 0.0\n",
    "    diagonal_query[i] = 1.0\n",
    "    absB[:,i] = np.sqrt(query(diagonal_query))"
   ]
  },
  {
   "cell_type": "code",
   "execution_count": 5,
   "id": "bd3f45ee",
   "metadata": {},
   "outputs": [
    {
     "data": {
      "text/plain": [
       "True"
      ]
     },
     "execution_count": 5,
     "metadata": {},
     "output_type": "execute_result"
    }
   ],
   "source": [
    "np.allclose(np.abs(B), absB)"
   ]
  },
  {
   "cell_type": "code",
   "execution_count": 12,
   "id": "03b969c9",
   "metadata": {},
   "outputs": [],
   "source": [
    "def cross_term_coefficients(absA, query_coeff):\n",
    "    coeffs = []\n",
    "    for i in range(N):\n",
    "        for j in range(i):\n",
    "            amplitude_factor = 2 * absA[i] * abs(query_coeff[i]) * absA[j] * abs(query_coeff[j])\n",
    "            phase_query = np.angle(query_coeff[i]) - np.angle(query_coeff[j])\n",
    "            coeffs.append(amplitude_factor * np.cos(phase_query)) # coefficient on cos(k_matrix[i] - k_matrix[j]\n",
    "            coeffs.append(-amplitude_factor * np.sin(phase_query)) # coefficient on sin(k_matrix[i] - k_matrix[j]\n",
    "            \n",
    "    return coeffs\n",
    "\n",
    "def remove_diagonal_terms_from_query(x):\n",
    "    N = len(x)\n",
    "    res = query(x)\n",
    "    for i in range(N):\n",
    "        y = np.zeros(N, dtype=np.complex128)\n",
    "        y[i] = x[i]\n",
    "        res -= query(y)\n",
    "        \n",
    "    return res\n",
    "\n",
    "def find_phase_from_sine_cos(sinx, cosx):\n",
    "    return np.sign(sinx) * np.arccos(cosx)\n",
    "\n",
    "def find_phase_diffs(absA):\n",
    "    N = absA.shape[0]\n",
    "    coeffs_set = np.zeros((N, N*(N-1), N*(N-1)), dtype=np.complex128)\n",
    "    results_set = np.zeros((N, N*(N-1)))\n",
    "    \n",
    "    # one system per port, each of which has N*(N-1) queries to find N*(N-1) sin/cos differences\n",
    "    for i in range(N*(N-1)):\n",
    "        x = np.random.uniform(-1, 1, N) + 1j * np.random.uniform(-1, 1, N)\n",
    "        res_cross = remove_diagonal_terms_from_query(x)\n",
    "        for port_idx in range(N):\n",
    "            coeffs_set[port_idx,i,:] = np.array(cross_term_coefficients(absA[port_idx,:], x))\n",
    "            results_set[port_idx,i] = res_cross[port_idx]\n",
    "            \n",
    "    sines_and_cosines = [np.real(np.linalg.solve(c, r)) for (c, r) in zip(coeffs_set, results_set)]\n",
    "    phase_diffs_matrix = np.zeros((N,N*(N-1)//2))\n",
    "    for (i, row) in enumerate(sines_and_cosines):\n",
    "        for (j, (s, c)) in enumerate(zip(row[::2], row[1::2])):\n",
    "            phase_diffs_matrix[i,j] = find_phase_from_sine_cos(c, s)\n",
    "            \n",
    "    return phase_diffs_matrix\n",
    "\n",
    "def phases_from_diffs(diffs):\n",
    "    phases = np.zeros((N,N))\n",
    "    lv = 0\n",
    "    for i in range(1, N):\n",
    "        phases[:,i] = diffs[:,lv]\n",
    "        lv += i\n",
    "            \n",
    "    return phases"
   ]
  },
  {
   "cell_type": "code",
   "execution_count": 14,
   "id": "c8587d26",
   "metadata": {},
   "outputs": [],
   "source": [
    "phase_diffs = find_phase_diffs(absB)\n",
    "phases_recon = phases_from_diffs(phase_diffs)\n",
    "B_recon = absB * np.exp(1j * phases_recon)"
   ]
  },
  {
   "cell_type": "code",
   "execution_count": 15,
   "id": "25a6527c",
   "metadata": {},
   "outputs": [],
   "source": [
    "for _ in range(100):\n",
    "    x = np.random.uniform(low=-1, high=1, size=N) + 1j * np.random.uniform(low=-1, high=1, size=N)\n",
    "    assert np.allclose(query(x), np.abs(B_recon @ x) ** 2)"
   ]
  },
  {
   "cell_type": "code",
   "execution_count": null,
   "id": "41e8cf39",
   "metadata": {},
   "outputs": [],
   "source": []
  }
 ],
 "metadata": {
  "kernelspec": {
   "display_name": "Python 3 (ipykernel)",
   "language": "python",
   "name": "python3"
  },
  "language_info": {
   "codemirror_mode": {
    "name": "ipython",
    "version": 3
   },
   "file_extension": ".py",
   "mimetype": "text/x-python",
   "name": "python",
   "nbconvert_exporter": "python",
   "pygments_lexer": "ipython3",
   "version": "3.10.13"
  }
 },
 "nbformat": 4,
 "nbformat_minor": 5
}
