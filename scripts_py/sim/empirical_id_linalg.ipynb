{
 "cells": [
  {
   "cell_type": "markdown",
   "id": "546c2815",
   "metadata": {},
   "source": [
    "### Photonic lantern empirical identification procedure: pure linear algebra derivation"
   ]
  },
  {
   "cell_type": "code",
   "execution_count": 1,
   "id": "e825eda0",
   "metadata": {},
   "outputs": [
    {
     "data": {
      "text/plain": [
       "True"
      ]
     },
     "execution_count": 1,
     "metadata": {},
     "output_type": "execute_result"
    }
   ],
   "source": [
    "import numpy as np\n",
    "N = 3\n",
    "A, _ = np.linalg.qr(np.random.rand(N, N) + 1j * np.random.rand(N, N))\n",
    "np.allclose(np.eye(N), np.dot(A, np.conj(A).T))"
   ]
  },
  {
   "cell_type": "markdown",
   "id": "f3e0db1c",
   "metadata": {},
   "source": [
    "In the notebook with the optical setup, $A$ isn't unitary; I think there's some normalization that would get us to this, but none of the math depends on it being unitary so it's fine."
   ]
  },
  {
   "cell_type": "code",
   "execution_count": 2,
   "id": "4ba6a434",
   "metadata": {},
   "outputs": [
    {
     "data": {
      "text/plain": [
       "array([0.207004  , 0.68109071, 0.11190529])"
      ]
     },
     "execution_count": 2,
     "metadata": {},
     "output_type": "execute_result"
    }
   ],
   "source": [
    "def query_A2(x):\n",
    "    return np.abs(np.dot(A, x)) ** 2\n",
    "\n",
    "test_query = np.zeros(N)\n",
    "test_query[0] = 1.0\n",
    "query_A2(test_query)"
   ]
  },
  {
   "cell_type": "markdown",
   "id": "51fac37f",
   "metadata": {},
   "source": [
    "###  Diagonal elements\n",
    "\n",
    "We can easily identify the matrix up to phase differences:"
   ]
  },
  {
   "cell_type": "code",
   "execution_count": 3,
   "id": "8d28bd59",
   "metadata": {},
   "outputs": [
    {
     "data": {
      "text/plain": [
       "True"
      ]
     },
     "execution_count": 3,
     "metadata": {},
     "output_type": "execute_result"
    }
   ],
   "source": [
    "A_recon = np.zeros((N,N), dtype=np.complex128)\n",
    "diagonal_query = np.zeros(N)\n",
    "for i in range(N):\n",
    "    diagonal_query[:] = 0.0\n",
    "    diagonal_query[i] = 1.0\n",
    "    A_recon[:,i] = np.sqrt(query_A2(diagonal_query))\n",
    "    \n",
    "np.allclose(A_recon, np.abs(A))"
   ]
  },
  {
   "cell_type": "markdown",
   "id": "71d1fb0d",
   "metadata": {},
   "source": [
    "### Phase differences\n",
    "\n",
    "We don't have complete control over the remaining inputs, but we know we have $N(N-1)$ more inputs with random coefficients. Let's generate those:"
   ]
  },
  {
   "cell_type": "code",
   "execution_count": 12,
   "id": "4d084a9f",
   "metadata": {},
   "outputs": [],
   "source": [
    "queries = np.random.uniform(size=(N*(N-1), N), low=-1, high=1) + 1j * np.random.uniform(size=(N*(N-1), N), low=-1, high=1)\n",
    "readings = np.array([query_A2(q) for q in queries])"
   ]
  },
  {
   "cell_type": "markdown",
   "id": "485cc4d8",
   "metadata": {},
   "source": [
    "We'll use this to make a linear system per port.\n",
    "\n",
    "For each of the queries, we know its representation in the input basis (which I'll call the \"fitting basis\" for reasons that'll be clear with the full optical system), and we know its query under $A$ looks like\n",
    "\n",
    "$ \\text{query response} = |Aq_i|^2_p = |\\sum_{k=1}^K A_{pk} q_{ki}|^2 $\n",
    "\n",
    "Here, $i$ indexes the query number. A query is a linear combination of the fitting basis, which is indexed by $k$. $A$ is a map from the fitting basis to the electric fields on each port, indexed by $p$.\n",
    "\n",
    "We'll need a general expansion of a sum of complex numbers under $||^2$ to do this; this is given by\n",
    "\n",
    "$ |a + b|^2 = |a|^2 + |b|^2 + 2 |a| |b| \\cos(\\phi_a - \\phi_b) $.\n",
    "\n",
    "This lets us expand this expression as follows:\n",
    "\n",
    "$ |Aq_i|^2_p = |\\sum_{k=1}^K A_{pk} q_{ki}|^2 = \\sum_{k=1}^K |A_{pk}|^2 |q_{ki}|^2 + 2\\sum_{l=1}^K \\sum_{m = 1}^{l-1} |A_{pl}| |A_{pm}| |q_{li}| |q_{mi}| \\cos(\\Phi_{pl} - \\Phi_{pm} + \\phi_{li} - \\phi_{mi}) $\n",
    "\n",
    "where for convenience I've set $\\Phi_{ab} = \\arg A_{ab}$ and $\\phi_{ab} = \\arg q_{ab}$. We're now iterating over the fitting basis twice and computing cross terms; these iterations are indexed by $l$ and $m$.\n",
    "\n",
    "This gives us a linear system in the terms with the form $\\cos(\\Phi_{pl} - \\Phi_{pm} + \\phi_l - \\phi_m)$. The issue here is $q_l, q_m$ don't remain constant, so we're really getting information about a different angle every time! This is easily resolved, though:\n",
    "\n",
    "$ \\cos(\\Phi_{pl} - \\Phi_{pm} + \\phi_{li} - \\phi_{mi}) = \\cos(\\Phi_{pl} - \\Phi_{pm}) \\cos(\\phi_{li} - \\phi_{mi}) - \\sin(\\Phi_{pl} - \\Phi_{pm}) \\sin(\\phi_{li} - \\phi_{mi})$\n",
    "\n",
    "and we know all the $\\phi_i$-s, so this extends our linear system even further! We have $N(N-1)$ variables (halved for permutation, doubled for both sine and cosine). There's some degree of redundancy because we know that $\\cos^2 x = 1 - \\sin^2 x$, but we'll leave that out. So we end up needing $N(N-1)$ queries.\n",
    "\n",
    "First, let's subtract off the diagonal elements. "
   ]
  },
  {
   "cell_type": "code",
   "execution_count": 14,
   "id": "01b3b0c6",
   "metadata": {},
   "outputs": [],
   "source": [
    "# I'll do this vectorized later\n",
    "cross_term_results = np.copy(readings)\n",
    "for query_idx in range(N*(N-1)):\n",
    "    for port_idx in range(N):\n",
    "        diagonal = np.zeros(N, dtype=np.complex128)\n",
    "        diagonal[port_idx] = queries[query_idx,port_idx]\n",
    "        cross_term_results[query_idx,:] -= query_A2(diagonal)\n",
    "        \n",
    "cross_term_results /= 2"
   ]
  },
  {
   "cell_type": "markdown",
   "id": "4265d45a",
   "metadata": {},
   "source": [
    "We have $N(N-1)$ examples overall, with $N$ ports each. What we've just generated is the $b$ matrices in $Cx = b$ for the $N$ problems we'll have to solve. So we need to make coefficient matrices as follows:\n",
    "\n",
    "$ C_p \\left[\\begin{matrix} \\cos(\\Phi_{p1} - \\Phi_{p2}) \\\\ \\sin(\\Phi_{p1} - \\Phi_{p2}) \\\\ \\cos(\\Phi_{p1} - \\Phi_{p3}) \\\\ \\sin(\\Phi_{p1} - \\Phi_{p3}) \\\\ \\cos(\\Phi_{p2} - \\Phi_{p3}) \\\\ \\sin(\\Phi_{p2} - \\Phi_{p3}) \\\\ \\vdots \\end{matrix}\\right] = b_p $ \n",
    "\n",
    "How do we populate $C_p$ to make this work? Let's say there's some mapping $(l, m) \\iff n$ just so we don't clutter the index convention. Now $n$ is indexing cross terms in the fitting basis, but with just one number rather than two, so that we can build the linear system we need.\n",
    "\n",
    "$ \\begin{align} C_{p,2n,i} &= &|A_{pl}| |A_{pm}| |q_{li}| |q_{mi}| \\cos(\\phi_{li} - \\phi_{mi}) \\\\\n",
    "C_{p,2n+1,i} &= &-|A_{pl}| |A_{pm}| |q_{li}| |q_{mi}| \\sin(\\phi_{li} - \\phi_{mi}) \\end{align} $"
   ]
  },
  {
   "cell_type": "code",
   "execution_count": 21,
   "id": "ba05e1f5",
   "metadata": {},
   "outputs": [],
   "source": [
    "# define the mapping between (l, m) and n\n",
    "index_pairs = []\n",
    "for lv in range(N):\n",
    "    for mv in range(lv):\n",
    "        index_pairs.append((lv, mv))"
   ]
  },
  {
   "cell_type": "code",
   "execution_count": 33,
   "id": "f00ed221",
   "metadata": {},
   "outputs": [
    {
     "name": "stdout",
     "output_type": "stream",
     "text": [
      "[-0.71098039  2.95728877 -0.22469704 -0.93744061 -0.17989357  0.64086735]\n",
      "[ 2.12276159 15.69099929  1.52446677 -2.63746445 -0.77932235 -2.76459708]\n",
      "[ -0.59807003 -10.81384401   0.28553393   2.46865602   0.65620682\n",
      "   0.47488436]\n"
     ]
    }
   ],
   "source": [
    "for port_idx in range(N):\n",
    "    C = np.zeros((N*(N-1), N*(N-1)))\n",
    "    for n in range(N*(N-1)//2):\n",
    "        lv, mv = index_pairs[n]\n",
    "        prefactors = np.abs(A_recon[port_idx,lv] * A_recon[port_idx,mv]) * np.abs(queries[:,lv]) * np.abs(queries[:,mv])\n",
    "        angle_diff = np.angle(queries[:,lv]) - np.angle(queries[:,mv])\n",
    "        C[2*n,:] = prefactors * np.cos(angle_diff)\n",
    "        C[2*n+1,:] = -prefactors * np.sin(angle_diff)\n",
    "        \n",
    "    print(np.linalg.lstsq(C, cross_term_results[:,port_idx], rcond=None)[0])"
   ]
  },
  {
   "cell_type": "code",
   "execution_count": 40,
   "id": "1c11b4fe",
   "metadata": {},
   "outputs": [],
   "source": [
    "B_abs = np.random.uniform(size=(3,3))\n",
    "B_phase = np.random.uniform(low=0, high=2*np.pi, size=(3,3))\n",
    "B = B_abs * np.exp(1j * B_phase)"
   ]
  },
  {
   "cell_type": "code",
   "execution_count": 52,
   "id": "a0f87480",
   "metadata": {},
   "outputs": [],
   "source": [
    "query = np.random.uniform(size=3) + 1j * np.random.uniform(size=3)\n",
    "response = np.abs(np.dot(B, test_query)) ** 2"
   ]
  },
  {
   "cell_type": "code",
   "execution_count": 63,
   "id": "439f80c5",
   "metadata": {},
   "outputs": [],
   "source": [
    "piecewise_built_response = np.zeros(3)\n",
    "# add in the diagonal elements\n",
    "for port_index in range(3):\n",
    "    for fitting_basis_index in range(3):\n",
    "        piecewise_built_response[port_index] += B_abs[port_index,fitting_basis_index] ** 2 * np.abs(query[fitting_basis_index]) ** 2\n",
    "\n",
    "# add in the cross terms\n",
    "for port_index in range(3):\n",
    "    for lv in range(3):\n",
    "        for mv in range(lv):\n",
    "            piecewise_built_response[port_index] += 2 * B_abs[port_index,lv] * B_abs[port_index,mv] * np.abs(query[lv]) * np.abs(query[mv]) * np.cos(B_phase[port_index,lv] - B_phase[port_index,mv] + np.angle(query[lv]) - np.angle(query[mv]))"
   ]
  },
  {
   "cell_type": "code",
   "execution_count": 64,
   "id": "db86ea34",
   "metadata": {},
   "outputs": [
    {
     "data": {
      "text/plain": [
       "array([0.272161  , 0.66899227, 0.00258841])"
      ]
     },
     "execution_count": 64,
     "metadata": {},
     "output_type": "execute_result"
    }
   ],
   "source": [
    "response"
   ]
  },
  {
   "cell_type": "code",
   "execution_count": 65,
   "id": "fcf4cb88",
   "metadata": {},
   "outputs": [
    {
     "data": {
      "text/plain": [
       "array([0.24548451, 0.08448673, 0.33705594])"
      ]
     },
     "execution_count": 65,
     "metadata": {},
     "output_type": "execute_result"
    }
   ],
   "source": [
    "piecewise_built_response"
   ]
  },
  {
   "cell_type": "code",
   "execution_count": 211,
   "id": "00975491",
   "metadata": {},
   "outputs": [],
   "source": [
    "def triangle_law(k):\n",
    "    abs2 = 0.0\n",
    "    for a in k:\n",
    "        abs2 += abs(a) ** 2\n",
    "        \n",
    "    for i in range(len(k)):\n",
    "        for j in range(i):\n",
    "            a, b = k[i], k[j]\n",
    "            abs2 += 2 * abs(a) * abs(b) * (np.real(a) * np.real(b) + np.imag(a) * np.imag(b)) / abs(a*b)\n",
    "            \n",
    "    return abs2\n",
    "\n",
    "for _ in range(100):\n",
    "    q = np.random.uniform(low=-1, high=1, size=10) + 1j * np.random.uniform(low=-1, high=1, size=10)\n",
    "    assert np.isclose(triangle_law(q), abs(sum(q)) ** 2)"
   ]
  },
  {
   "cell_type": "code",
   "execution_count": 253,
   "id": "7ba05dff",
   "metadata": {},
   "outputs": [],
   "source": [
    "def triangle_law_diagonal_terms(k1, k2):\n",
    "    abs2 = 0.0\n",
    "    for (a, b) in zip(k1, k2):\n",
    "        abs2 += abs(a*b) ** 2\n",
    "        \n",
    "    return abs2\n",
    "\n",
    "def triangle_law_cross_terms(k1, k2):\n",
    "    abs2 = 0.0\n",
    "    for i in range(len(k1)):\n",
    "        for j in range(i):\n",
    "            a, b = k1[i] * k2[i], k1[j] * k2[j]\n",
    "            phase_a, phase_b = np.angle(k1[i]) - np.angle(k1[j]), np.angle(k2[i]) - np.angle(k2[j])\n",
    "            cos_factor = np.cos(phase_a + phase_b)\n",
    "            abs2 += 2 * abs(a) * abs(b) * cos_factor\n",
    "            \n",
    "    return abs2"
   ]
  },
  {
   "cell_type": "code",
   "execution_count": 254,
   "id": "accaf02e",
   "metadata": {},
   "outputs": [],
   "source": [
    "def triangle_law_and_multiply(k1, k2):\n",
    "    return triangle_law_diagonal_terms(k1, k2) + triangle_law_cross_terms(k1, k2)"
   ]
  },
  {
   "cell_type": "code",
   "execution_count": 255,
   "id": "c6abec02",
   "metadata": {},
   "outputs": [],
   "source": [
    "def slow_triangular_abs2_matmul(A, x):\n",
    "    res = np.zeros(A.shape[0])\n",
    "    for port_idx in range(A.shape[0]):\n",
    "        res[port_idx] = triangle_law_and_multiply(A[port_idx,:], x)\n",
    "            \n",
    "    return res\n",
    "\n",
    "def slow_triangular_cross_terms(A, x):\n",
    "    res = np.zeros(A.shape[0])\n",
    "    for port_idx in range(A.shape[0]):\n",
    "        res[port_idx] = triangle_law_cross_terms(A[port_idx,:], x)\n",
    "            \n",
    "    return res\n",
    "\n",
    "def slow_triangular_diagonal_terms(A, x):\n",
    "    res = np.zeros(A.shape[0])\n",
    "    for port_idx in range(A.shape[0]):\n",
    "        res[port_idx] = triangle_law_diagonal_terms(A[port_idx,:], x)\n",
    "            \n",
    "    return res"
   ]
  },
  {
   "cell_type": "code",
   "execution_count": 256,
   "id": "8b1b6a28",
   "metadata": {},
   "outputs": [],
   "source": [
    "def query_abs2(A, x):\n",
    "    return np.abs(np.dot(A, x)) ** 2\n",
    "\n",
    "def remove_diagonal_terms_from_query_abs2(A, x):\n",
    "    N = len(x)\n",
    "    res = query_abs2(A, x)\n",
    "    for i in range(N):\n",
    "        y = np.zeros(N, dtype=np.complex128)\n",
    "        y[i] = x[i]\n",
    "        res -= query_abs2(A, y)\n",
    "        \n",
    "    return res"
   ]
  },
  {
   "cell_type": "code",
   "execution_count": 257,
   "id": "03b969c9",
   "metadata": {},
   "outputs": [],
   "source": [
    "def make_linear_system_to_find_matrix_phase(A):\n",
    "    N = A.shape[0]\n",
    "    for i in range(N*(N-1)):\n",
    "        x = np.random.uniform(-1, 1, N) + 1j * np.random.uniform(-1, 1, N)\n",
    "        res_cross = remove_diagonal_terms_from_query_abs2(B, x)\n",
    "        assert np.allclose(\n",
    "            res_cross,\n",
    "            slow_triangular_cross_terms(B, x)\n",
    "        )"
   ]
  },
  {
   "cell_type": "code",
   "execution_count": 258,
   "id": "4caee6e7",
   "metadata": {},
   "outputs": [],
   "source": [
    "make_linear_system_to_find_matrix_phase(B)"
   ]
  },
  {
   "cell_type": "code",
   "execution_count": null,
   "id": "2944be24",
   "metadata": {},
   "outputs": [],
   "source": []
  }
 ],
 "metadata": {
  "kernelspec": {
   "display_name": "Python 3 (ipykernel)",
   "language": "python",
   "name": "python3"
  },
  "language_info": {
   "codemirror_mode": {
    "name": "ipython",
    "version": 3
   },
   "file_extension": ".py",
   "mimetype": "text/x-python",
   "name": "python",
   "nbconvert_exporter": "python",
   "pygments_lexer": "ipython3",
   "version": "3.10.13"
  }
 },
 "nbformat": 4,
 "nbformat_minor": 5
}
