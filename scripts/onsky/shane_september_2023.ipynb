{
 "cells": [
  {
   "cell_type": "markdown",
   "id": "d2986734",
   "metadata": {},
   "source": [
    "### ShaneAO September 2023 Photonic Lantern Test: Guide to Running Experiments\n",
    "\n",
    "Aditya Sengupta"
   ]
  },
  {
   "cell_type": "code",
   "execution_count": 1,
   "id": "aff26fd5",
   "metadata": {},
   "outputs": [],
   "source": [
    "%load_ext autoreload\n",
    "%autoreload 2"
   ]
  },
  {
   "cell_type": "markdown",
   "id": "1c8c95fd",
   "metadata": {},
   "source": [
    "First, check that this import works! If not, make sure you're on Python 3.8.15 in `~/projects/photonics/.venv/`."
   ]
  },
  {
   "cell_type": "code",
   "execution_count": 2,
   "id": "8258265a",
   "metadata": {},
   "outputs": [],
   "source": [
    "import PySpin"
   ]
  },
  {
   "cell_type": "markdown",
   "id": "58a76355",
   "metadata": {},
   "source": [
    "If you ever run into issues with PySpin, search for PySpinDoc.pdf on this computer for their full documentation. For examples of how to use PySpin, check out `~/projects/shanepl/Examples`."
   ]
  },
  {
   "cell_type": "code",
   "execution_count": 3,
   "id": "8913450a",
   "metadata": {},
   "outputs": [],
   "source": [
    "import photonics\n",
    "import matplotlib.pyplot as plt\n",
    "try:\n",
    "    import imageio.v3 as iio\n",
    "except ModuleNotFoundError:\n",
    "    import imageio as iio"
   ]
  },
  {
   "cell_type": "markdown",
   "id": "364561df",
   "metadata": {},
   "source": [
    "I've put everything related to the PL project in this Python module. The principal objects you'll need to interact with are the `LanternReader` and `ShaneLantern`. If all goes well, you can just run every cell in this notebook with no or minimal changes and we'll get all the necessary data, but I'm making this a more comprehensive guide in case something needs to be adapted on the spot.\n",
    "\n",
    "A `LanternReader` handles converting PL images to arrays of intensities; doing this on the fly is essential to closing the loop in our next on-sky test. It does this by reading in one image and identifying the bright spots with `photutils.DAOStarFinder`."
   ]
  },
  {
   "cell_type": "code",
   "execution_count": 4,
   "id": "79a59753",
   "metadata": {},
   "outputs": [
    {
     "name": "stdout",
     "output_type": "stream",
     "text": [
      "Path for data saving set to /Users/adityasengupta/projects/photonics/data/pl_230903\n"
     ]
    }
   ],
   "source": [
    "reader = photonics.LanternReader(\n",
    "    nports = 18, # number of ports\n",
    "    fwhm = 18, # the full width at half max of the lantern spots; feeds into DAOStarFinder\n",
    "    threshold = 25, # threshold number of SDs to be above the background; feeds into DAOStarFinder\n",
    "    ext = \"npy\", # the kind of file we want to write to\n",
    "    imgshape = (1200, 1920), # the shape of the camera images we're writing\n",
    "    subdir = None # the subdirectory of \"data\" we write to; defaults to \"pl_YYMMDD\".\n",
    ")"
   ]
  },
  {
   "cell_type": "markdown",
   "id": "d311d5fe",
   "metadata": {},
   "source": [
    "A `ShaneLantern` is mostly just a collection of the functions I wrote on our last observing run, to get the actual images, send commands to the DM, and combine these to run more involved experiments."
   ]
  },
  {
   "cell_type": "code",
   "execution_count": 5,
   "id": "a0626d94",
   "metadata": {},
   "outputs": [
    {
     "name": "stdout",
     "output_type": "stream",
     "text": [
      "Num detected = 1\n"
     ]
    }
   ],
   "source": [
    "lantern = photonics.ShaneLantern(\n",
    "    reader = reader,\n",
    "    Nmodes = 12 # the number of Zernike modes we can put on the DM\n",
    ")"
   ]
  },
  {
   "cell_type": "markdown",
   "id": "bac9a7d8",
   "metadata": {},
   "source": [
    "### Calibrating the Lantern\n",
    "\n",
    "The first thing to do is get an image we can use to find the centroids."
   ]
  },
  {
   "cell_type": "code",
   "execution_count": 6,
   "id": "d8e204f4",
   "metadata": {},
   "outputs": [
    {
     "name": "stdout",
     "output_type": "stream",
     "text": [
      "Error: Spinnaker: Failed waiting for EventData on NEW_BUFFER_DATA event. [-1011]\n"
     ]
    },
    {
     "ename": "TypeError",
     "evalue": "Invalid shape () for image data",
     "output_type": "error",
     "traceback": [
      "\u001b[0;31m---------------------------------------------------------------------------\u001b[0m",
      "\u001b[0;31mTypeError\u001b[0m                                 Traceback (most recent call last)",
      "Cell \u001b[0;32mIn[6], line 10\u001b[0m\n\u001b[1;32m      7\u001b[0m \u001b[39melse\u001b[39;00m:\n\u001b[1;32m      8\u001b[0m     img \u001b[39m=\u001b[39m iio\u001b[39m.\u001b[39mimread(\u001b[39m\"\u001b[39m\u001b[39m./data/pl_230525/pl_230525_z10_a-0.25.png\u001b[39m\u001b[39m\"\u001b[39m)[:,:,\u001b[39m0\u001b[39m]\n\u001b[0;32m---> 10\u001b[0m reader\u001b[39m.\u001b[39;49msaturation_map(img)\n",
      "File \u001b[0;32m~/projects/photonics/photonics/lantern_reader.py:196\u001b[0m, in \u001b[0;36mLanternReader.saturation_map\u001b[0;34m(self, img)\u001b[0m\n\u001b[1;32m    195\u001b[0m \u001b[39mdef\u001b[39;00m \u001b[39msaturation_map\u001b[39m(\u001b[39mself\u001b[39m, img):\n\u001b[0;32m--> 196\u001b[0m     plt\u001b[39m.\u001b[39;49mimshow(img \u001b[39m>\u001b[39;49m\u001b[39m=\u001b[39;49m \u001b[39m65535\u001b[39;49m)\n\u001b[1;32m    197\u001b[0m     plt\u001b[39m.\u001b[39mtitle(\u001b[39m\"\u001b[39m\u001b[39mSaturation map\u001b[39m\u001b[39m\"\u001b[39m)\n\u001b[1;32m    198\u001b[0m     plt\u001b[39m.\u001b[39mshow()\n",
      "File \u001b[0;32m~/projects/photonics/.venv/lib/python3.8/site-packages/matplotlib/pyplot.py:2695\u001b[0m, in \u001b[0;36mimshow\u001b[0;34m(X, cmap, norm, aspect, interpolation, alpha, vmin, vmax, origin, extent, interpolation_stage, filternorm, filterrad, resample, url, data, **kwargs)\u001b[0m\n\u001b[1;32m   2689\u001b[0m \u001b[39m@_copy_docstring_and_deprecators\u001b[39m(Axes\u001b[39m.\u001b[39mimshow)\n\u001b[1;32m   2690\u001b[0m \u001b[39mdef\u001b[39;00m \u001b[39mimshow\u001b[39m(\n\u001b[1;32m   2691\u001b[0m         X, cmap\u001b[39m=\u001b[39m\u001b[39mNone\u001b[39;00m, norm\u001b[39m=\u001b[39m\u001b[39mNone\u001b[39;00m, \u001b[39m*\u001b[39m, aspect\u001b[39m=\u001b[39m\u001b[39mNone\u001b[39;00m, interpolation\u001b[39m=\u001b[39m\u001b[39mNone\u001b[39;00m,\n\u001b[1;32m   2692\u001b[0m         alpha\u001b[39m=\u001b[39m\u001b[39mNone\u001b[39;00m, vmin\u001b[39m=\u001b[39m\u001b[39mNone\u001b[39;00m, vmax\u001b[39m=\u001b[39m\u001b[39mNone\u001b[39;00m, origin\u001b[39m=\u001b[39m\u001b[39mNone\u001b[39;00m, extent\u001b[39m=\u001b[39m\u001b[39mNone\u001b[39;00m,\n\u001b[1;32m   2693\u001b[0m         interpolation_stage\u001b[39m=\u001b[39m\u001b[39mNone\u001b[39;00m, filternorm\u001b[39m=\u001b[39m\u001b[39mTrue\u001b[39;00m, filterrad\u001b[39m=\u001b[39m\u001b[39m4.0\u001b[39m,\n\u001b[1;32m   2694\u001b[0m         resample\u001b[39m=\u001b[39m\u001b[39mNone\u001b[39;00m, url\u001b[39m=\u001b[39m\u001b[39mNone\u001b[39;00m, data\u001b[39m=\u001b[39m\u001b[39mNone\u001b[39;00m, \u001b[39m*\u001b[39m\u001b[39m*\u001b[39mkwargs):\n\u001b[0;32m-> 2695\u001b[0m     __ret \u001b[39m=\u001b[39m gca()\u001b[39m.\u001b[39;49mimshow(\n\u001b[1;32m   2696\u001b[0m         X, cmap\u001b[39m=\u001b[39;49mcmap, norm\u001b[39m=\u001b[39;49mnorm, aspect\u001b[39m=\u001b[39;49maspect,\n\u001b[1;32m   2697\u001b[0m         interpolation\u001b[39m=\u001b[39;49minterpolation, alpha\u001b[39m=\u001b[39;49malpha, vmin\u001b[39m=\u001b[39;49mvmin,\n\u001b[1;32m   2698\u001b[0m         vmax\u001b[39m=\u001b[39;49mvmax, origin\u001b[39m=\u001b[39;49morigin, extent\u001b[39m=\u001b[39;49mextent,\n\u001b[1;32m   2699\u001b[0m         interpolation_stage\u001b[39m=\u001b[39;49minterpolation_stage,\n\u001b[1;32m   2700\u001b[0m         filternorm\u001b[39m=\u001b[39;49mfilternorm, filterrad\u001b[39m=\u001b[39;49mfilterrad, resample\u001b[39m=\u001b[39;49mresample,\n\u001b[1;32m   2701\u001b[0m         url\u001b[39m=\u001b[39;49murl, \u001b[39m*\u001b[39;49m\u001b[39m*\u001b[39;49m({\u001b[39m\"\u001b[39;49m\u001b[39mdata\u001b[39;49m\u001b[39m\"\u001b[39;49m: data} \u001b[39mif\u001b[39;49;00m data \u001b[39mis\u001b[39;49;00m \u001b[39mnot\u001b[39;49;00m \u001b[39mNone\u001b[39;49;00m \u001b[39melse\u001b[39;49;00m {}),\n\u001b[1;32m   2702\u001b[0m         \u001b[39m*\u001b[39;49m\u001b[39m*\u001b[39;49mkwargs)\n\u001b[1;32m   2703\u001b[0m     sci(__ret)\n\u001b[1;32m   2704\u001b[0m     \u001b[39mreturn\u001b[39;00m __ret\n",
      "File \u001b[0;32m~/projects/photonics/.venv/lib/python3.8/site-packages/matplotlib/__init__.py:1446\u001b[0m, in \u001b[0;36m_preprocess_data.<locals>.inner\u001b[0;34m(ax, data, *args, **kwargs)\u001b[0m\n\u001b[1;32m   1443\u001b[0m \u001b[39m@functools\u001b[39m\u001b[39m.\u001b[39mwraps(func)\n\u001b[1;32m   1444\u001b[0m \u001b[39mdef\u001b[39;00m \u001b[39minner\u001b[39m(ax, \u001b[39m*\u001b[39margs, data\u001b[39m=\u001b[39m\u001b[39mNone\u001b[39;00m, \u001b[39m*\u001b[39m\u001b[39m*\u001b[39mkwargs):\n\u001b[1;32m   1445\u001b[0m     \u001b[39mif\u001b[39;00m data \u001b[39mis\u001b[39;00m \u001b[39mNone\u001b[39;00m:\n\u001b[0;32m-> 1446\u001b[0m         \u001b[39mreturn\u001b[39;00m func(ax, \u001b[39m*\u001b[39;49m\u001b[39mmap\u001b[39;49m(sanitize_sequence, args), \u001b[39m*\u001b[39;49m\u001b[39m*\u001b[39;49mkwargs)\n\u001b[1;32m   1448\u001b[0m     bound \u001b[39m=\u001b[39m new_sig\u001b[39m.\u001b[39mbind(ax, \u001b[39m*\u001b[39margs, \u001b[39m*\u001b[39m\u001b[39m*\u001b[39mkwargs)\n\u001b[1;32m   1449\u001b[0m     auto_label \u001b[39m=\u001b[39m (bound\u001b[39m.\u001b[39marguments\u001b[39m.\u001b[39mget(label_namer)\n\u001b[1;32m   1450\u001b[0m                   \u001b[39mor\u001b[39;00m bound\u001b[39m.\u001b[39mkwargs\u001b[39m.\u001b[39mget(label_namer))\n",
      "File \u001b[0;32m~/projects/photonics/.venv/lib/python3.8/site-packages/matplotlib/axes/_axes.py:5663\u001b[0m, in \u001b[0;36mAxes.imshow\u001b[0;34m(self, X, cmap, norm, aspect, interpolation, alpha, vmin, vmax, origin, extent, interpolation_stage, filternorm, filterrad, resample, url, **kwargs)\u001b[0m\n\u001b[1;32m   5655\u001b[0m \u001b[39mself\u001b[39m\u001b[39m.\u001b[39mset_aspect(aspect)\n\u001b[1;32m   5656\u001b[0m im \u001b[39m=\u001b[39m mimage\u001b[39m.\u001b[39mAxesImage(\u001b[39mself\u001b[39m, cmap\u001b[39m=\u001b[39mcmap, norm\u001b[39m=\u001b[39mnorm,\n\u001b[1;32m   5657\u001b[0m                       interpolation\u001b[39m=\u001b[39minterpolation, origin\u001b[39m=\u001b[39morigin,\n\u001b[1;32m   5658\u001b[0m                       extent\u001b[39m=\u001b[39mextent, filternorm\u001b[39m=\u001b[39mfilternorm,\n\u001b[1;32m   5659\u001b[0m                       filterrad\u001b[39m=\u001b[39mfilterrad, resample\u001b[39m=\u001b[39mresample,\n\u001b[1;32m   5660\u001b[0m                       interpolation_stage\u001b[39m=\u001b[39minterpolation_stage,\n\u001b[1;32m   5661\u001b[0m                       \u001b[39m*\u001b[39m\u001b[39m*\u001b[39mkwargs)\n\u001b[0;32m-> 5663\u001b[0m im\u001b[39m.\u001b[39;49mset_data(X)\n\u001b[1;32m   5664\u001b[0m im\u001b[39m.\u001b[39mset_alpha(alpha)\n\u001b[1;32m   5665\u001b[0m \u001b[39mif\u001b[39;00m im\u001b[39m.\u001b[39mget_clip_path() \u001b[39mis\u001b[39;00m \u001b[39mNone\u001b[39;00m:\n\u001b[1;32m   5666\u001b[0m     \u001b[39m# image does not already have clipping set, clip to axes patch\u001b[39;00m\n",
      "File \u001b[0;32m~/projects/photonics/.venv/lib/python3.8/site-packages/matplotlib/image.py:710\u001b[0m, in \u001b[0;36m_ImageBase.set_data\u001b[0;34m(self, A)\u001b[0m\n\u001b[1;32m    706\u001b[0m     \u001b[39mself\u001b[39m\u001b[39m.\u001b[39m_A \u001b[39m=\u001b[39m \u001b[39mself\u001b[39m\u001b[39m.\u001b[39m_A[:, :, \u001b[39m0\u001b[39m]\n\u001b[1;32m    708\u001b[0m \u001b[39mif\u001b[39;00m \u001b[39mnot\u001b[39;00m (\u001b[39mself\u001b[39m\u001b[39m.\u001b[39m_A\u001b[39m.\u001b[39mndim \u001b[39m==\u001b[39m \u001b[39m2\u001b[39m\n\u001b[1;32m    709\u001b[0m         \u001b[39mor\u001b[39;00m \u001b[39mself\u001b[39m\u001b[39m.\u001b[39m_A\u001b[39m.\u001b[39mndim \u001b[39m==\u001b[39m \u001b[39m3\u001b[39m \u001b[39mand\u001b[39;00m \u001b[39mself\u001b[39m\u001b[39m.\u001b[39m_A\u001b[39m.\u001b[39mshape[\u001b[39m-\u001b[39m\u001b[39m1\u001b[39m] \u001b[39min\u001b[39;00m [\u001b[39m3\u001b[39m, \u001b[39m4\u001b[39m]):\n\u001b[0;32m--> 710\u001b[0m     \u001b[39mraise\u001b[39;00m \u001b[39mTypeError\u001b[39;00m(\u001b[39m\"\u001b[39m\u001b[39mInvalid shape \u001b[39m\u001b[39m{}\u001b[39;00m\u001b[39m for image data\u001b[39m\u001b[39m\"\u001b[39m\n\u001b[1;32m    711\u001b[0m                     \u001b[39m.\u001b[39mformat(\u001b[39mself\u001b[39m\u001b[39m.\u001b[39m_A\u001b[39m.\u001b[39mshape))\n\u001b[1;32m    713\u001b[0m \u001b[39mif\u001b[39;00m \u001b[39mself\u001b[39m\u001b[39m.\u001b[39m_A\u001b[39m.\u001b[39mndim \u001b[39m==\u001b[39m \u001b[39m3\u001b[39m:\n\u001b[1;32m    714\u001b[0m     \u001b[39m# If the input data has values outside the valid range (after\u001b[39;00m\n\u001b[1;32m    715\u001b[0m     \u001b[39m# normalisation), we issue a warning and then clip X to the bounds\u001b[39;00m\n\u001b[1;32m    716\u001b[0m     \u001b[39m# - otherwise casting wraps extreme values, hiding outliers and\u001b[39;00m\n\u001b[1;32m    717\u001b[0m     \u001b[39m# making reliable interpretation impossible.\u001b[39;00m\n\u001b[1;32m    718\u001b[0m     high \u001b[39m=\u001b[39m \u001b[39m255\u001b[39m \u001b[39mif\u001b[39;00m np\u001b[39m.\u001b[39missubdtype(\u001b[39mself\u001b[39m\u001b[39m.\u001b[39m_A\u001b[39m.\u001b[39mdtype, np\u001b[39m.\u001b[39minteger) \u001b[39melse\u001b[39;00m \u001b[39m1\u001b[39m\n",
      "\u001b[0;31mTypeError\u001b[0m: Invalid shape () for image data"
     ]
    },
    {
     "data": {
      "image/png": "[encoded data removed]",
      "text/plain": [
       "<Figure size 640x480 with 1 Axes>"
      ]
     },
     "metadata": {},
     "output_type": "display_data"
    }
   ],
   "source": [
    "onsky = True # flip this on sky!\n",
    "if onsky:\n",
    "    # since we don't really care about speed\n",
    "    # set the exposure time as high as possible with minimal saturation\n",
    "    # so that this is an average and centroid detection isn't skewed by background\n",
    "    img = lantern.get_image()\n",
    "    print(img)\n",
    "else:\n",
    "    img = iio.imread(\"./data/pl_230525/pl_230525_z10_a-0.25.png\")[:,:,0]\n",
    "\n",
    "reader.saturation_map(img)"
   ]
  },
  {
   "cell_type": "markdown",
   "id": "c0a581dc",
   "metadata": {},
   "source": [
    "You can repeatedly run the cell above to see a map of where the camera is saturating - based on last time, it'll probably be necessary to try a few different exposure times/settings till you get one you're happy with."
   ]
  },
  {
   "cell_type": "code",
   "execution_count": 15,
   "id": "10543cbf",
   "metadata": {},
   "outputs": [
    {
     "name": "stdout",
     "output_type": "stream",
     "text": [
      "False\n"
     ]
    }
   ],
   "source": [
    "print(img)"
   ]
  },
  {
   "cell_type": "code",
   "execution_count": 9,
   "id": "1f1dacdd",
   "metadata": {},
   "outputs": [],
   "source": [
    "lantern.initialize_camera()"
   ]
  },
  {
   "cell_type": "code",
   "execution_count": 11,
   "id": "735c0e43",
   "metadata": {},
   "outputs": [],
   "source": [
    "reader.set_centroids(img) # will take a few seconds"
   ]
  },
  {
   "cell_type": "markdown",
   "id": "6077f831",
   "metadata": {},
   "source": [
    "At this point, you can plot the identified port positions. You don't have to save this every time, but it'll be helpful to have saved at least once, so we know which port is which index in the intensity arrays later."
   ]
  },
  {
   "cell_type": "code",
   "execution_count": 12,
   "id": "dc110774",
   "metadata": {},
   "outputs": [
    {
     "data": {
      "image/png": "[encoded data removed]",
      "text/plain": [
       "<Figure size 640x480 with 1 Axes>"
      ]
     },
     "metadata": {},
     "output_type": "display_data"
    }
   ],
   "source": [
    "reader.plot_ports(save=True)"
   ]
  },
  {
   "cell_type": "markdown",
   "id": "7defd6d3",
   "metadata": {},
   "source": [
    "If this doesn't look like what you expect (quite likely), it's possible the background or the magnification on the detector are very different than what I've been seeing on SEAL. In this case, you can update `fwhm` or `threshold` to accommodate this."
   ]
  },
  {
   "cell_type": "code",
   "execution_count": 13,
   "id": "9b671545",
   "metadata": {},
   "outputs": [],
   "source": [
    "if False: # so you don't accidentally run this if you got a good setting\n",
    "    reader.fwhm = 18 # change this if you need to\n",
    "    reader.threshold = 25 # change this if you need to\n",
    "    # you can also change these at the top if you want\n",
    "    reader.set_centroids(img) # maybe also take a new image here"
   ]
  },
  {
   "cell_type": "markdown",
   "id": "d9225e98",
   "metadata": {},
   "source": [
    "As a last resort, if no settings seem to work with this, you can set `reader.save_intensities` to `False`. This will prompt the functions that run experiments to save full images instead of the intensity arrays, but in this case you'll need to keep an eye on storage.\n",
    "\n",
    "You can also use the port mask to \"mask out\" any image you see, and set any pixel that isn't being read out as one of the intensities to 0:"
   ]
  },
  {
   "cell_type": "code",
   "execution_count": 14,
   "id": "c11555e1",
   "metadata": {},
   "outputs": [
    {
     "data": {
      "text/plain": [
       "<matplotlib.image.AxesImage at 0x1209ad910>"
      ]
     },
     "execution_count": 14,
     "metadata": {},
     "output_type": "execute_result"
    },
    {
     "data": {
      "image/png": "[encoded data removed]",
      "text/plain": [
       "<Figure size 640x480 with 1 Axes>"
      ]
     },
     "metadata": {},
     "output_type": "display_data"
    }
   ],
   "source": [
    "plt.imshow(img * reader.port_mask())"
   ]
  },
  {
   "cell_type": "markdown",
   "id": "39a76757",
   "metadata": {},
   "source": [
    "Finally, when this looks okay, you can read intensities off images using these settings:"
   ]
  },
  {
   "cell_type": "code",
   "execution_count": 15,
   "id": "3f0bc26b",
   "metadata": {},
   "outputs": [
    {
     "data": {
      "text/plain": [
       "array([15.63261297, 34.58137255, 46.82792527, 22.30580138, 70.4745098 ,\n",
       "       41.28318584, 17.91748527, 27.72655479, 53.32647059, 45.37659784,\n",
       "       30.53359684, 29.16308594, 59.81046397, 31.94788594, 43.34350394,\n",
       "       58.23129921, 13.07360157, 25.98525074])"
      ]
     },
     "execution_count": 15,
     "metadata": {},
     "output_type": "execute_result"
    }
   ],
   "source": [
    "reader.get_intensities(img) # an Nports-length array"
   ]
  },
  {
   "cell_type": "markdown",
   "id": "c2d3ba15",
   "metadata": {},
   "source": [
    "### Daytime Testing\n",
    "\n",
    "How do we actually use this? This is where the `ShaneLantern` object comes in. The basic functions are `command_to_dm` and `get_image`. We keep track of the current DM command in `lantern.curr_dmc`, and can update it to put new patterns on."
   ]
  },
  {
   "cell_type": "code",
   "execution_count": 16,
   "id": "b22ab639",
   "metadata": {},
   "outputs": [
    {
     "name": "stdout",
     "output_type": "stream",
     "text": [
      "DMC 0.0,0.0,0.0,0.0,0.0,0.0,0.0,0.0,0.0,0.0,0.0,0.0.\n"
     ]
    },
    {
     "name": "stderr",
     "output_type": "stream",
     "text": [
      "/Users/adityasengupta/projects/photonics/photonics/shane.py:48: UserWarning: If you see this and you're at Lick, uncomment the lines defining and running shell_command.\n",
      "  warnings.warn(\"If you see this and you're at Lick, uncomment the lines defining and running shell_command.\")\n"
     ]
    }
   ],
   "source": [
    "lantern.command_to_dm()"
   ]
  },
  {
   "cell_type": "code",
   "execution_count": 17,
   "id": "aeced147",
   "metadata": {},
   "outputs": [
    {
     "name": "stdout",
     "output_type": "stream",
     "text": [
      "Not implemented, waiting on PySpin API\n"
     ]
    }
   ],
   "source": [
    "img = lantern.get_image()"
   ]
  },
  {
   "cell_type": "markdown",
   "id": "d5b8d2e3",
   "metadata": {},
   "source": [
    "The interface to PySpin can be confusing, so if this doesn't work, try the following:\n",
    "\n",
    "- check the SpinView GUI for errors\n",
    "- run `python3 photonics/flir.py` - this is a barely-adapted version of one of their example scripts, so if there's an error with the camera in this code, it should show up when you run this script too\n",
    "- run `lantern.deinitialize_camera()` and `lantern.initialize_camera()` - this runs through several PySpin setup steps again and may solve some issues\n",
    "- the old-fashioned method: just restart the script and the camera"
   ]
  },
  {
   "cell_type": "markdown",
   "id": "efa88e2c",
   "metadata": {},
   "source": [
    "This is pretty cumbersome, so here's some more directly useful functions:"
   ]
  },
  {
   "cell_type": "code",
   "execution_count": 18,
   "id": "9143ae88",
   "metadata": {},
   "outputs": [
    {
     "name": "stdout",
     "output_type": "stream",
     "text": [
      "DMC 0.0,1.0,0.0,0.0,0.0,0.0,0.0,0.0,0.0,0.0,0.0,0.0.\n"
     ]
    }
   ],
   "source": [
    "lantern.zern_to_dm(2, 1.0)"
   ]
  },
  {
   "cell_type": "markdown",
   "id": "f8838022",
   "metadata": {},
   "source": [
    "As a safeguard against flipping the order (z, amp), it also checks the input types:"
   ]
  },
  {
   "cell_type": "code",
   "execution_count": 19,
   "id": "c1452ae6",
   "metadata": {},
   "outputs": [
    {
     "ename": "AssertionError",
     "evalue": "second argument must be a float (amplitude)",
     "output_type": "error",
     "traceback": [
      "\u001b[0;31m---------------------------------------------------------------------------\u001b[0m",
      "\u001b[0;31mAssertionError\u001b[0m                            Traceback (most recent call last)",
      "Cell \u001b[0;32mIn[19], line 1\u001b[0m\n\u001b[0;32m----> 1\u001b[0m lantern\u001b[39m.\u001b[39;49mzern_to_dm(\u001b[39m2\u001b[39;49m, \u001b[39m1\u001b[39;49m)\n\u001b[1;32m      2\u001b[0m \u001b[39m# do I mean amp = 1.0 on Zernike 2, or 2.0 on Zernike 1?\u001b[39;00m\n",
      "File \u001b[0;32m~/projects/photonics/photonics/shane.py:30\u001b[0m, in \u001b[0;36mShaneLantern.zern_to_dm\u001b[0;34m(self, z, amp)\u001b[0m\n\u001b[1;32m     28\u001b[0m \u001b[39mdef\u001b[39;00m \u001b[39mzern_to_dm\u001b[39m(\u001b[39mself\u001b[39m, z, amp):\n\u001b[1;32m     29\u001b[0m     \u001b[39massert\u001b[39;00m \u001b[39mtype\u001b[39m(z) \u001b[39m==\u001b[39m \u001b[39mint\u001b[39m, \u001b[39m\"\u001b[39m\u001b[39mfirst argument must be an integer (Zernike number)\u001b[39m\u001b[39m\"\u001b[39m\n\u001b[0;32m---> 30\u001b[0m     \u001b[39massert\u001b[39;00m \u001b[39mtype\u001b[39m(amp) \u001b[39m==\u001b[39m \u001b[39mfloat\u001b[39m, \u001b[39m\"\u001b[39m\u001b[39msecond argument must be a float (amplitude)\u001b[39m\u001b[39m\"\u001b[39m\n\u001b[1;32m     31\u001b[0m     \u001b[39mself\u001b[39m\u001b[39m.\u001b[39mcurr_dmc[:] \u001b[39m=\u001b[39m \u001b[39m0.0\u001b[39m\n\u001b[1;32m     32\u001b[0m     \u001b[39mself\u001b[39m\u001b[39m.\u001b[39mcurr_dmc[z\u001b[39m-\u001b[39m\u001b[39m1\u001b[39m] \u001b[39m=\u001b[39m amp\n",
      "\u001b[0;31mAssertionError\u001b[0m: second argument must be a float (amplitude)"
     ]
    }
   ],
   "source": [
    "lantern.zern_to_dm(2, 1)\n",
    "# do I mean amp = 1.0 on Zernike 2, or 2.0 on Zernike 1?"
   ]
  },
  {
   "cell_type": "markdown",
   "id": "753c248a",
   "metadata": {},
   "source": [
    "Combining these two functions lets us run more involved experiments. The easiest one of these is sending a probe signal."
   ]
  },
  {
   "cell_type": "code",
   "execution_count": 20,
   "id": "26cf0dbd",
   "metadata": {},
   "outputs": [
    {
     "name": "stderr",
     "output_type": "stream",
     "text": [
      "100%|██████████| 1/1 [00:00<00:00,  1.02it/s]\n"
     ]
    }
   ],
   "source": [
    "lantern.probe_signal()"
   ]
  },
  {
   "cell_type": "markdown",
   "id": "399a188d",
   "metadata": {},
   "source": [
    "More generally, we're running instances of `lantern.experiment`, which takes in a collection of commands (a 2D array of size (Npatterns, Nmodes) in which each row is a DM command). I've provided the experiments I'm interested in, and if there's any reason to do anything else, you can adapt those functions!"
   ]
  },
  {
   "cell_type": "code",
   "execution_count": 21,
   "id": "9ebafe81",
   "metadata": {},
   "outputs": [
    {
     "name": "stderr",
     "output_type": "stream",
     "text": [
      "100%|██████████| 21/21 [00:15<00:00,  1.38it/s]\n"
     ]
    }
   ],
   "source": [
    "lantern.sweep_mode(2) # sweep over a Zernike mode: can set min_amp, max_amp, and step"
   ]
  },
  {
   "cell_type": "code",
   "execution_count": 22,
   "id": "4bc14d09",
   "metadata": {},
   "outputs": [
    {
     "name": "stdout",
     "output_type": "stream",
     "text": [
      "Sweeping mode 1\n"
     ]
    },
    {
     "name": "stderr",
     "output_type": "stream",
     "text": [
      "100%|██████████| 9/9 [00:06<00:00,  1.36it/s]\n"
     ]
    },
    {
     "name": "stdout",
     "output_type": "stream",
     "text": [
      "Sweeping mode 2\n"
     ]
    },
    {
     "name": "stderr",
     "output_type": "stream",
     "text": [
      "100%|██████████| 9/9 [00:05<00:00,  1.51it/s]\n"
     ]
    },
    {
     "name": "stdout",
     "output_type": "stream",
     "text": [
      "Sweeping mode 3\n"
     ]
    },
    {
     "name": "stderr",
     "output_type": "stream",
     "text": [
      "100%|██████████| 9/9 [00:06<00:00,  1.49it/s]\n"
     ]
    },
    {
     "name": "stdout",
     "output_type": "stream",
     "text": [
      "Sweeping mode 4\n"
     ]
    },
    {
     "name": "stderr",
     "output_type": "stream",
     "text": [
      "100%|██████████| 9/9 [00:06<00:00,  1.44it/s]\n"
     ]
    },
    {
     "name": "stdout",
     "output_type": "stream",
     "text": [
      "Sweeping mode 5\n"
     ]
    },
    {
     "name": "stderr",
     "output_type": "stream",
     "text": [
      "100%|██████████| 9/9 [00:06<00:00,  1.45it/s]\n"
     ]
    },
    {
     "name": "stdout",
     "output_type": "stream",
     "text": [
      "Sweeping mode 6\n"
     ]
    },
    {
     "name": "stderr",
     "output_type": "stream",
     "text": [
      "100%|██████████| 9/9 [00:05<00:00,  1.51it/s]\n"
     ]
    },
    {
     "name": "stdout",
     "output_type": "stream",
     "text": [
      "Sweeping mode 7\n"
     ]
    },
    {
     "name": "stderr",
     "output_type": "stream",
     "text": [
      "100%|██████████| 9/9 [00:05<00:00,  1.51it/s]\n"
     ]
    },
    {
     "name": "stdout",
     "output_type": "stream",
     "text": [
      "Sweeping mode 8\n"
     ]
    },
    {
     "name": "stderr",
     "output_type": "stream",
     "text": [
      "100%|██████████| 9/9 [00:06<00:00,  1.45it/s]\n"
     ]
    },
    {
     "name": "stdout",
     "output_type": "stream",
     "text": [
      "Sweeping mode 9\n"
     ]
    },
    {
     "name": "stderr",
     "output_type": "stream",
     "text": [
      "100%|██████████| 9/9 [00:06<00:00,  1.44it/s]\n"
     ]
    },
    {
     "name": "stdout",
     "output_type": "stream",
     "text": [
      "Sweeping mode 10\n"
     ]
    },
    {
     "name": "stderr",
     "output_type": "stream",
     "text": [
      "100%|██████████| 9/9 [00:07<00:00,  1.26it/s]\n"
     ]
    },
    {
     "name": "stdout",
     "output_type": "stream",
     "text": [
      "Sweeping mode 11\n"
     ]
    },
    {
     "name": "stderr",
     "output_type": "stream",
     "text": [
      "100%|██████████| 9/9 [00:05<00:00,  1.51it/s]\n"
     ]
    },
    {
     "name": "stdout",
     "output_type": "stream",
     "text": [
      "Sweeping mode 12\n"
     ]
    },
    {
     "name": "stderr",
     "output_type": "stream",
     "text": [
      "100%|██████████| 9/9 [00:05<00:00,  1.53it/s]\n"
     ]
    }
   ],
   "source": [
    "lantern.sweep_all_modes(step=0.25) # can set min_amp, max_amp, and step here too"
   ]
  },
  {
   "cell_type": "code",
   "execution_count": 23,
   "id": "289d3981",
   "metadata": {},
   "outputs": [
    {
     "name": "stderr",
     "output_type": "stream",
     "text": [
      "100%|██████████| 77/77 [00:48<00:00,  1.59it/s]\n"
     ]
    }
   ],
   "source": [
    "lantern.sweep_mode_combinations()"
   ]
  },
  {
   "cell_type": "code",
   "execution_count": 24,
   "id": "e0496c1f",
   "metadata": {},
   "outputs": [
    {
     "name": "stderr",
     "output_type": "stream",
     "text": [
      "100%|██████████| 10/10 [00:06<00:00,  1.51it/s]\n"
     ]
    }
   ],
   "source": [
    "lantern.random_combinations(10) # run this with a few thousand iterations"
   ]
  },
  {
   "cell_type": "code",
   "execution_count": 25,
   "id": "8f221149",
   "metadata": {},
   "outputs": [
    {
     "name": "stderr",
     "output_type": "stream",
     "text": [
      "100%|██████████| 10/10 [00:06<00:00,  1.54it/s]\n"
     ]
    }
   ],
   "source": [
    "lantern.random_combinations(10, lim=0.12) # run this with a few thousand iterations"
   ]
  },
  {
   "cell_type": "markdown",
   "id": "019a849f",
   "metadata": {},
   "source": [
    "Finally, when you're all done with a round of testing, run this:"
   ]
  },
  {
   "cell_type": "code",
   "execution_count": null,
   "id": "7d26d103",
   "metadata": {},
   "outputs": [],
   "source": [
    "lantern.deinitialize_camera()"
   ]
  },
  {
   "cell_type": "markdown",
   "id": "acc0192e",
   "metadata": {},
   "source": [
    "I'm not sure exactly what'll happen if you don't do this, but making sure you do it helps keep the system behaviour consistent."
   ]
  },
  {
   "cell_type": "markdown",
   "id": "38e9c4fb",
   "metadata": {},
   "source": [
    "### On-Sky Testing\n",
    "\n",
    "Finally, for on-sky testing, we just want to save as many images as we can, and the times they were taken. This means not doing any intensity calculations until after the test, so that the rate is limited by the camera and not the intensity computation. This means we'll potentially have a large amount of memory being used while data collection is going on - keep an eye on this, and if it turns out to be a problem (e.g. crashing this notebook) we can go back to data collection via the GUI. The benefit of doing it here is we can save timestamps and accurately sync up the probe signal, but it's not too bad if this can't happen.\n",
    "\n",
    "`lantern.onsky` takes in one parameter, the timeout in seconds. You should adjust this along with however long you're taking telemetry - about 250-300 was good last time. Another option is: you can interrupt the cell at any time, and it'll stop collecting data and move to measuring intensities and saving. But I'm providing both options because interrupting a Jupyter cell can be a little unreliable. (Also: only interrupt it once! If you interrupt twice, it'll stop the processing/saving part of the code.)"
   ]
  },
  {
   "cell_type": "code",
   "execution_count": 26,
   "id": "d6c0b646",
   "metadata": {},
   "outputs": [
    {
     "name": "stderr",
     "output_type": "stream",
     "text": [
      "100%|██████████| 1/1 [00:00<00:00,  1.26it/s]\n",
      "/Users/adityasengupta/projects/photonics/photonics/shane.py:133: UserWarning: If you see this and you're at Lick, delete the `sleep(0.1)` just below this.\n",
      "  warnings.warn(\"If you see this and you're at Lick, delete the `sleep(0.1)` just below this.\")\n"
     ]
    },
    {
     "name": "stdout",
     "output_type": "stream",
     "text": [
      "Breaking out of loop\n",
      "Done collecting images\n"
     ]
    },
    {
     "name": "stderr",
     "output_type": "stream",
     "text": [
      "100%|██████████| 1/1 [00:00<00:00,  1.46it/s]\n",
      "100%|██████████| 48/48 [00:31<00:00,  1.51it/s]"
     ]
    },
    {
     "name": "stdout",
     "output_type": "stream",
     "text": [
      "Saving data to /Users/adityasengupta/projects/photonics/data/pl_230821/timestamps_230821_102939_801785.npy\n",
      "Saving data to /Users/adityasengupta/projects/photonics/data/pl_230821/pl_230821_102939_801785.npy\n"
     ]
    },
    {
     "name": "stderr",
     "output_type": "stream",
     "text": [
      "\n"
     ]
    }
   ],
   "source": [
    "# DO run this here\n",
    "lantern.onsky(400) # timeout in seconds"
   ]
  },
  {
   "cell_type": "markdown",
   "id": "ddd4495f",
   "metadata": {},
   "source": [
    "Separately from the lantern data collection, we need to send commands to let the system know to save telemetry data. The script below does this. DO NOT run this in the notebook: we need the notebook for lantern image collection and synchronization."
   ]
  },
  {
   "cell_type": "code",
   "execution_count": null,
   "id": "52d06c54",
   "metadata": {},
   "outputs": [],
   "source": [
    "# copy and paste this into an ipython window, separate from this notebook!\n",
    "# do not run this here!\n",
    "\"\"\"\n",
    "from photonics.shane import save_telemetry\n",
    "from tqdm import trange\n",
    "for i in trange(3):\n",
    "    # try this out with 3 first (daytime is okay), check with the support astronomer\n",
    "    # and during the night, increase it to match the window you want to measure for\n",
    "    # I had this at about 50 iterations x 5 seconds each last time\n",
    "    save_telemetry(0.1)\n",
    "\"\"\""
   ]
  },
  {
   "cell_type": "markdown",
   "id": "20ff77f4",
   "metadata": {},
   "source": [
    "### tl;dr"
   ]
  },
  {
   "cell_type": "markdown",
   "id": "621b0171",
   "metadata": {},
   "source": [
    "- Run through this notebook and make sure the reader is picking up on the intensity pattern we actually want\n",
    "- During daytime testing, run the experiment cells (probe signal, sweep all modes, sweep mode combinations, a few thousand random combinations with lim=1.0, a few thousand random combinations with lim=0.12)\n",
    "- During on-sky testing, run the `onsky` function for data collection, then open up a different ipython window and run the cell just above this with the loop over `save_telemetry`. When that's done and you've double-checked with the support astronomer that telemetry files have been saved, terminate the cell with `onsky` (once!)"
   ]
  }
 ],
 "metadata": {
  "kernelspec": {
   "display_name": "Python 3.11.1 ('.venv': venv)",
   "language": "python",
   "name": "python3"
  },
  "language_info": {
   "codemirror_mode": {
    "name": "ipython",
    "version": 3
   },
   "file_extension": ".py",
   "mimetype": "text/x-python",
   "name": "python",
   "nbconvert_exporter": "python",
   "pygments_lexer": "ipython3",
   "version": "3.8.15"
  },
  "vscode": {
   "interpreter": {
    "hash": "f00bb8b1ddfd4f77880004e25444c8ff0cc4a1ead0f4eecdd8caf375f20d2138"
   }
  }
 },
 "nbformat": 4,
 "nbformat_minor": 5
}
